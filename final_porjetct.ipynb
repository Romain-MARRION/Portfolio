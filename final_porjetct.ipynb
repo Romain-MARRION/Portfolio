{
  "nbformat": 4,
  "nbformat_minor": 0,
  "metadata": {
    "colab": {
      "provenance": [],
      "authorship_tag": "ABX9TyNSk46T0dI5ZD3s74FmNB0M",
      "include_colab_link": true
    },
    "kernelspec": {
      "name": "python3",
      "display_name": "Python 3"
    },
    "language_info": {
      "name": "python"
    },
    "accelerator": "GPU",
    "gpuClass": "standard"
  },
  "cells": [
    {
      "cell_type": "markdown",
      "metadata": {
        "id": "view-in-github",
        "colab_type": "text"
      },
      "source": [
        "<a href=\"https://colab.research.google.com/github/Romain-MARRION/Portfolio/blob/main/final_porjetct.ipynb\" target=\"_parent\"><img src=\"https://colab.research.google.com/assets/colab-badge.svg\" alt=\"Open In Colab\"/></a>"
      ]
    },
    {
      "cell_type": "code",
      "execution_count": 131,
      "metadata": {
        "id": "T7rvy76Z_ZXM"
      },
      "outputs": [],
      "source": [
        "import tensorflow as tf\n",
        "import tensorflow_datasets as tfds\n",
        "from tensorflow.keras import Sequential\n",
        "from tensorflow.keras.layers import Convolution2D, MaxPool2D, Flatten, Dense, Dropout,BatchNormalization"
      ]
    },
    {
      "cell_type": "code",
      "source": [
        "SEED=42"
      ],
      "metadata": {
        "id": "Nd0SQg-1DfUn"
      },
      "execution_count": 132,
      "outputs": []
    },
    {
      "cell_type": "code",
      "source": [
        "train_dataset, validation_dataset , test_dataset = tfds.load(\n",
        "    'ColorectalHistology', \n",
        "    shuffle_files=True,\n",
        "    read_config = tfds.ReadConfig(shuffle_seed=SEED),\n",
        "    as_supervised=True,\n",
        "    split=['train[:60%]', 'train[60%:80%]', 'train[80%:]'])"
      ],
      "metadata": {
        "id": "QFvk1whqDGGv"
      },
      "execution_count": 133,
      "outputs": []
    },
    {
      "cell_type": "markdown",
      "source": [
        "all the same lenght and values between 0 and 255"
      ],
      "metadata": {
        "id": "qBKfIfJLFB1C"
      }
    },
    {
      "cell_type": "code",
      "source": [
        "for element in train_dataset.take(3):\n",
        "    print(element)"
      ],
      "metadata": {
        "colab": {
          "base_uri": "https://localhost:8080/"
        },
        "id": "W8LqQLtoExkt",
        "outputId": "d7a344e6-758a-490f-9a85-3337531960b1"
      },
      "execution_count": 134,
      "outputs": [
        {
          "output_type": "stream",
          "name": "stdout",
          "text": [
            "(<tf.Tensor: shape=(150, 150, 3), dtype=uint8, numpy=\n",
            "array([[[238, 211, 226],\n",
            "        [232, 205, 220],\n",
            "        [233, 210, 230],\n",
            "        ...,\n",
            "        [242, 242, 240],\n",
            "        [242, 241, 239],\n",
            "        [244, 243, 241]],\n",
            "\n",
            "       [[225, 213, 223],\n",
            "        [223, 211, 221],\n",
            "        [225, 208, 216],\n",
            "        ...,\n",
            "        [243, 242, 240],\n",
            "        [243, 242, 240],\n",
            "        [244, 243, 241]],\n",
            "\n",
            "       [[225, 209, 222],\n",
            "        [228, 212, 225],\n",
            "        [230, 214, 224],\n",
            "        ...,\n",
            "        [243, 242, 240],\n",
            "        [243, 242, 240],\n",
            "        [244, 243, 241]],\n",
            "\n",
            "       ...,\n",
            "\n",
            "       [[239, 243, 244],\n",
            "        [239, 243, 244],\n",
            "        [239, 243, 244],\n",
            "        ...,\n",
            "        [241, 241, 241],\n",
            "        [240, 242, 241],\n",
            "        [240, 242, 241]],\n",
            "\n",
            "       [[239, 243, 244],\n",
            "        [239, 243, 244],\n",
            "        [239, 243, 244],\n",
            "        ...,\n",
            "        [241, 241, 241],\n",
            "        [240, 242, 241],\n",
            "        [240, 242, 241]],\n",
            "\n",
            "       [[239, 243, 244],\n",
            "        [239, 243, 244],\n",
            "        [239, 243, 244],\n",
            "        ...,\n",
            "        [241, 241, 241],\n",
            "        [240, 242, 241],\n",
            "        [240, 242, 241]]], dtype=uint8)>, <tf.Tensor: shape=(), dtype=int64, numpy=6>)\n",
            "(<tf.Tensor: shape=(150, 150, 3), dtype=uint8, numpy=\n",
            "array([[[241, 241, 243],\n",
            "        [242, 242, 244],\n",
            "        [243, 243, 245],\n",
            "        ...,\n",
            "        [243, 244, 248],\n",
            "        [243, 244, 246],\n",
            "        [243, 244, 246]],\n",
            "\n",
            "       [[241, 241, 243],\n",
            "        [242, 242, 244],\n",
            "        [243, 243, 245],\n",
            "        ...,\n",
            "        [243, 244, 248],\n",
            "        [243, 244, 246],\n",
            "        [243, 244, 246]],\n",
            "\n",
            "       [[241, 241, 243],\n",
            "        [242, 242, 244],\n",
            "        [243, 243, 245],\n",
            "        ...,\n",
            "        [243, 244, 248],\n",
            "        [243, 244, 246],\n",
            "        [243, 244, 246]],\n",
            "\n",
            "       ...,\n",
            "\n",
            "       [[241, 243, 242],\n",
            "        [241, 243, 242],\n",
            "        [241, 243, 242],\n",
            "        ...,\n",
            "        [243, 243, 243],\n",
            "        [243, 243, 241],\n",
            "        [243, 243, 241]],\n",
            "\n",
            "       [[241, 243, 242],\n",
            "        [241, 243, 242],\n",
            "        [241, 243, 242],\n",
            "        ...,\n",
            "        [244, 244, 244],\n",
            "        [244, 244, 242],\n",
            "        [244, 244, 242]],\n",
            "\n",
            "       [[241, 243, 242],\n",
            "        [241, 243, 242],\n",
            "        [241, 243, 242],\n",
            "        ...,\n",
            "        [244, 244, 244],\n",
            "        [244, 244, 242],\n",
            "        [244, 244, 242]]], dtype=uint8)>, <tf.Tensor: shape=(), dtype=int64, numpy=7>)\n",
            "(<tf.Tensor: shape=(150, 150, 3), dtype=uint8, numpy=\n",
            "array([[[146,  70, 116],\n",
            "        [148,  72, 118],\n",
            "        [183,  92, 123],\n",
            "        ...,\n",
            "        [221, 129, 166],\n",
            "        [224, 146, 178],\n",
            "        [237, 159, 191]],\n",
            "\n",
            "       [[158,  75, 117],\n",
            "        [162,  79, 121],\n",
            "        [182,  92, 125],\n",
            "        ...,\n",
            "        [216, 136, 169],\n",
            "        [223, 156, 184],\n",
            "        [236, 169, 197]],\n",
            "\n",
            "       [[171,  81, 117],\n",
            "        [175,  85, 121],\n",
            "        [174,  88, 123],\n",
            "        ...,\n",
            "        [216, 153, 182],\n",
            "        [217, 165, 188],\n",
            "        [225, 173, 196]],\n",
            "\n",
            "       ...,\n",
            "\n",
            "       [[219, 121, 154],\n",
            "        [212, 114, 147],\n",
            "        [194,  88, 122],\n",
            "        ...,\n",
            "        [165,  71, 107],\n",
            "        [176,  78, 113],\n",
            "        [176,  78, 113]],\n",
            "\n",
            "       [[197, 104, 130],\n",
            "        [183,  90, 116],\n",
            "        [167,  78,  96],\n",
            "        ...,\n",
            "        [161,  69, 105],\n",
            "        [171,  73, 108],\n",
            "        [162,  64,  99]],\n",
            "\n",
            "       [[149,  78,  94],\n",
            "        [142,  71,  87],\n",
            "        [140,  70,  81],\n",
            "        ...,\n",
            "        [159,  67, 103],\n",
            "        [152,  67,  98],\n",
            "        [137,  52,  83]]], dtype=uint8)>, <tf.Tensor: shape=(), dtype=int64, numpy=2>)\n"
          ]
        }
      ]
    },
    {
      "cell_type": "code",
      "source": [
        "BUFFER_SIZE = 1000\n",
        "BATCH_SIZE = 32\n",
        "num_classes=8"
      ],
      "metadata": {
        "id": "ixOT5hJEFe7z"
      },
      "execution_count": 135,
      "outputs": []
    },
    {
      "cell_type": "code",
      "source": [
        "train_dataset = train_dataset.cache().shuffle(BUFFER_SIZE)\\\n",
        "    .batch(BATCH_SIZE).prefetch(buffer_size=tf.data.AUTOTUNE)\n",
        "validation_dataset = validation_dataset.batch(BATCH_SIZE)\\\n",
        "    .prefetch(buffer_size=tf.data.AUTOTUNE)\n",
        "test_dataset = test_dataset.batch(BATCH_SIZE)\\\n",
        "    .prefetch(buffer_size=tf.data.AUTOTUNE)"
      ],
      "metadata": {
        "id": "3u2K4KYzFq8B"
      },
      "execution_count": 136,
      "outputs": []
    },
    {
      "cell_type": "code",
      "source": [
        "train_dataset"
      ],
      "metadata": {
        "colab": {
          "base_uri": "https://localhost:8080/"
        },
        "id": "CPCn0AjoKsCc",
        "outputId": "007121e8-59c8-4276-9276-e1a2cadb4e26"
      },
      "execution_count": 137,
      "outputs": [
        {
          "output_type": "execute_result",
          "data": {
            "text/plain": [
              "<PrefetchDataset element_spec=(TensorSpec(shape=(None, 150, 150, 3), dtype=tf.uint8, name=None), TensorSpec(shape=(None,), dtype=tf.int64, name=None))>"
            ]
          },
          "metadata": {},
          "execution_count": 137
        }
      ]
    },
    {
      "cell_type": "code",
      "source": [
        "image_batch, label_batch = next(iter(train_dataset))\n",
        "image_batch.shape, label_batch.shape\n"
      ],
      "metadata": {
        "colab": {
          "base_uri": "https://localhost:8080/"
        },
        "id": "gIl4Jpy7JaWc",
        "outputId": "c46b6862-3720-4077-bcd1-b5483d0c8aa1"
      },
      "execution_count": 138,
      "outputs": [
        {
          "output_type": "execute_result",
          "data": {
            "text/plain": [
              "(TensorShape([32, 150, 150, 3]), TensorShape([32]))"
            ]
          },
          "metadata": {},
          "execution_count": 138
        }
      ]
    },
    {
      "cell_type": "code",
      "source": [
        "model=Sequential(\n",
        "    [\n",
        "        Convolution2D(128, (3 ,3), input_shape=(150, 150, 3),padding='same', activation='relu'),\n",
        "        MaxPool2D(pool_size=(2, 2)),\n",
        "        BatchNormalization(),\n",
        "        Convolution2D(64, (3 ,3),padding='same', activation='relu'),\n",
        "        MaxPool2D(pool_size=(2, 2)),\n",
        "        Convolution2D(64, (3 ,3),padding='same', activation='relu'),\n",
        "        MaxPool2D(pool_size=(2, 2)),\n",
        "        Convolution2D(64, (3 ,3),padding='same', activation='relu'),\n",
        "        MaxPool2D(pool_size=(2, 2)),\n",
        "        Dropout(0.4),\n",
        "        Convolution2D(64, (3 ,3),padding='same', activation='relu'),\n",
        "        MaxPool2D(pool_size=(2, 2)),\n",
        "        Dropout(0.4),\n",
        "        Flatten(),\n",
        "        Dense(128,activation='relu'),\n",
        "        Dropout(0.4),\n",
        "        Dense(activation='softmax', units=num_classes)\n",
        "    ]\n",
        ")"
      ],
      "metadata": {
        "id": "RXGvbeA1GadX"
      },
      "execution_count": 139,
      "outputs": []
    },
    {
      "cell_type": "code",
      "source": [
        "model.summary()"
      ],
      "metadata": {
        "colab": {
          "base_uri": "https://localhost:8080/"
        },
        "id": "tAfvBKJ8G1Mu",
        "outputId": "dab32412-9086-4a16-86f7-33e051346a51"
      },
      "execution_count": 140,
      "outputs": [
        {
          "output_type": "stream",
          "name": "stdout",
          "text": [
            "Model: \"sequential_15\"\n",
            "_________________________________________________________________\n",
            " Layer (type)                Output Shape              Param #   \n",
            "=================================================================\n",
            " conv2d_61 (Conv2D)          (None, 150, 150, 128)     3584      \n",
            "                                                                 \n",
            " max_pooling2d_61 (MaxPoolin  (None, 75, 75, 128)      0         \n",
            " g2D)                                                            \n",
            "                                                                 \n",
            " batch_normalization_9 (Batc  (None, 75, 75, 128)      512       \n",
            " hNormalization)                                                 \n",
            "                                                                 \n",
            " conv2d_62 (Conv2D)          (None, 75, 75, 64)        73792     \n",
            "                                                                 \n",
            " max_pooling2d_62 (MaxPoolin  (None, 37, 37, 64)       0         \n",
            " g2D)                                                            \n",
            "                                                                 \n",
            " conv2d_63 (Conv2D)          (None, 37, 37, 64)        36928     \n",
            "                                                                 \n",
            " max_pooling2d_63 (MaxPoolin  (None, 18, 18, 64)       0         \n",
            " g2D)                                                            \n",
            "                                                                 \n",
            " conv2d_64 (Conv2D)          (None, 18, 18, 64)        36928     \n",
            "                                                                 \n",
            " max_pooling2d_64 (MaxPoolin  (None, 9, 9, 64)         0         \n",
            " g2D)                                                            \n",
            "                                                                 \n",
            " dropout_17 (Dropout)        (None, 9, 9, 64)          0         \n",
            "                                                                 \n",
            " conv2d_65 (Conv2D)          (None, 9, 9, 64)          36928     \n",
            "                                                                 \n",
            " max_pooling2d_65 (MaxPoolin  (None, 4, 4, 64)         0         \n",
            " g2D)                                                            \n",
            "                                                                 \n",
            " dropout_18 (Dropout)        (None, 4, 4, 64)          0         \n",
            "                                                                 \n",
            " flatten_15 (Flatten)        (None, 1024)              0         \n",
            "                                                                 \n",
            " dense_29 (Dense)            (None, 128)               131200    \n",
            "                                                                 \n",
            " dropout_19 (Dropout)        (None, 128)               0         \n",
            "                                                                 \n",
            " dense_30 (Dense)            (None, 8)                 1032      \n",
            "                                                                 \n",
            "=================================================================\n",
            "Total params: 320,904\n",
            "Trainable params: 320,648\n",
            "Non-trainable params: 256\n",
            "_________________________________________________________________\n"
          ]
        }
      ]
    },
    {
      "cell_type": "code",
      "source": [
        "lr_schedule = tf.keras.optimizers.schedules.ExponentialDecay(\n",
        "    initial_learning_rate=1e-2,\n",
        "    decay_steps=1000,\n",
        "    decay_rate=0.9)"
      ],
      "metadata": {
        "id": "I40uDs60RLQP"
      },
      "execution_count": 141,
      "outputs": []
    },
    {
      "cell_type": "code",
      "source": [
        "model.compile(optimizer=tf.keras.optimizers.Adam(learning_rate=3e-4), loss='SparseCategoricalCrossentropy', metrics=['accuracy'])"
      ],
      "metadata": {
        "id": "B1g2nw2sG3m9"
      },
      "execution_count": 153,
      "outputs": []
    },
    {
      "cell_type": "code",
      "source": [
        "history =model.fit(train_dataset, epochs=40, validation_data=validation_dataset)"
      ],
      "metadata": {
        "colab": {
          "base_uri": "https://localhost:8080/"
        },
        "id": "z-_X4c69HA5P",
        "outputId": "365a45a0-f78c-4358-d8f4-94e1ab7570c1"
      },
      "execution_count": 154,
      "outputs": [
        {
          "output_type": "stream",
          "name": "stdout",
          "text": [
            "Epoch 1/40\n",
            "94/94 [==============================] - 7s 68ms/step - loss: 0.0202 - accuracy: 0.9937 - val_loss: 0.3754 - val_accuracy: 0.9170\n",
            "Epoch 2/40\n",
            "94/94 [==============================] - 6s 66ms/step - loss: 0.0233 - accuracy: 0.9947 - val_loss: 0.4985 - val_accuracy: 0.8980\n",
            "Epoch 3/40\n",
            "94/94 [==============================] - 6s 67ms/step - loss: 0.0348 - accuracy: 0.9913 - val_loss: 0.5599 - val_accuracy: 0.8900\n",
            "Epoch 4/40\n",
            "94/94 [==============================] - 6s 67ms/step - loss: 0.0260 - accuracy: 0.9927 - val_loss: 0.5018 - val_accuracy: 0.9030\n",
            "Epoch 5/40\n",
            "94/94 [==============================] - 7s 70ms/step - loss: 0.0337 - accuracy: 0.9920 - val_loss: 0.5051 - val_accuracy: 0.9080\n",
            "Epoch 6/40\n",
            "94/94 [==============================] - 6s 67ms/step - loss: 0.0350 - accuracy: 0.9900 - val_loss: 0.4705 - val_accuracy: 0.9080\n",
            "Epoch 7/40\n",
            "94/94 [==============================] - 6s 68ms/step - loss: 0.0249 - accuracy: 0.9933 - val_loss: 0.3823 - val_accuracy: 0.9190\n",
            "Epoch 8/40\n",
            "94/94 [==============================] - 6s 69ms/step - loss: 0.0226 - accuracy: 0.9940 - val_loss: 0.4247 - val_accuracy: 0.9190\n",
            "Epoch 9/40\n",
            "94/94 [==============================] - 6s 68ms/step - loss: 0.0228 - accuracy: 0.9930 - val_loss: 0.4538 - val_accuracy: 0.9140\n",
            "Epoch 10/40\n",
            "94/94 [==============================] - 6s 68ms/step - loss: 0.0323 - accuracy: 0.9910 - val_loss: 0.4225 - val_accuracy: 0.9100\n",
            "Epoch 11/40\n",
            "94/94 [==============================] - 6s 68ms/step - loss: 0.0202 - accuracy: 0.9950 - val_loss: 0.6253 - val_accuracy: 0.8710\n",
            "Epoch 12/40\n",
            "94/94 [==============================] - 6s 68ms/step - loss: 0.0480 - accuracy: 0.9877 - val_loss: 0.3990 - val_accuracy: 0.9070\n",
            "Epoch 13/40\n",
            "94/94 [==============================] - 6s 68ms/step - loss: 0.0253 - accuracy: 0.9930 - val_loss: 0.4288 - val_accuracy: 0.9110\n",
            "Epoch 14/40\n",
            "94/94 [==============================] - 6s 68ms/step - loss: 0.0304 - accuracy: 0.9917 - val_loss: 0.4082 - val_accuracy: 0.9220\n",
            "Epoch 15/40\n",
            "94/94 [==============================] - 6s 68ms/step - loss: 0.0269 - accuracy: 0.9920 - val_loss: 0.3701 - val_accuracy: 0.9160\n",
            "Epoch 16/40\n",
            "94/94 [==============================] - 6s 68ms/step - loss: 0.0222 - accuracy: 0.9927 - val_loss: 0.4538 - val_accuracy: 0.9070\n",
            "Epoch 17/40\n",
            "94/94 [==============================] - 6s 69ms/step - loss: 0.0218 - accuracy: 0.9933 - val_loss: 0.4431 - val_accuracy: 0.9210\n",
            "Epoch 18/40\n",
            "94/94 [==============================] - 6s 68ms/step - loss: 0.0293 - accuracy: 0.9917 - val_loss: 0.3839 - val_accuracy: 0.9200\n",
            "Epoch 19/40\n",
            "94/94 [==============================] - 6s 69ms/step - loss: 0.0262 - accuracy: 0.9933 - val_loss: 0.4423 - val_accuracy: 0.9190\n",
            "Epoch 20/40\n",
            "94/94 [==============================] - 6s 68ms/step - loss: 0.0155 - accuracy: 0.9953 - val_loss: 0.4169 - val_accuracy: 0.9160\n",
            "Epoch 21/40\n",
            "94/94 [==============================] - 6s 68ms/step - loss: 0.0258 - accuracy: 0.9930 - val_loss: 0.4146 - val_accuracy: 0.9160\n",
            "Epoch 22/40\n",
            "94/94 [==============================] - 6s 68ms/step - loss: 0.0180 - accuracy: 0.9950 - val_loss: 0.4273 - val_accuracy: 0.9110\n",
            "Epoch 23/40\n",
            "94/94 [==============================] - 6s 68ms/step - loss: 0.0206 - accuracy: 0.9933 - val_loss: 0.3746 - val_accuracy: 0.9190\n",
            "Epoch 24/40\n",
            "94/94 [==============================] - 6s 69ms/step - loss: 0.0230 - accuracy: 0.9940 - val_loss: 0.4168 - val_accuracy: 0.9200\n",
            "Epoch 25/40\n",
            "94/94 [==============================] - 6s 68ms/step - loss: 0.0292 - accuracy: 0.9927 - val_loss: 0.5853 - val_accuracy: 0.8960\n",
            "Epoch 26/40\n",
            "94/94 [==============================] - 6s 68ms/step - loss: 0.0243 - accuracy: 0.9920 - val_loss: 0.4715 - val_accuracy: 0.9120\n",
            "Epoch 27/40\n",
            "94/94 [==============================] - 6s 68ms/step - loss: 0.0238 - accuracy: 0.9930 - val_loss: 0.3849 - val_accuracy: 0.9130\n",
            "Epoch 28/40\n",
            "94/94 [==============================] - 6s 68ms/step - loss: 0.0327 - accuracy: 0.9903 - val_loss: 0.5011 - val_accuracy: 0.8840\n",
            "Epoch 29/40\n",
            "94/94 [==============================] - 7s 69ms/step - loss: 0.0298 - accuracy: 0.9913 - val_loss: 0.4294 - val_accuracy: 0.9070\n",
            "Epoch 30/40\n",
            "94/94 [==============================] - 6s 68ms/step - loss: 0.0187 - accuracy: 0.9947 - val_loss: 0.4329 - val_accuracy: 0.9100\n",
            "Epoch 31/40\n",
            "94/94 [==============================] - 7s 71ms/step - loss: 0.0300 - accuracy: 0.9913 - val_loss: 0.4326 - val_accuracy: 0.9120\n",
            "Epoch 32/40\n",
            "94/94 [==============================] - 6s 68ms/step - loss: 0.0228 - accuracy: 0.9940 - val_loss: 0.4446 - val_accuracy: 0.9240\n",
            "Epoch 33/40\n",
            "94/94 [==============================] - 6s 69ms/step - loss: 0.0213 - accuracy: 0.9937 - val_loss: 0.4449 - val_accuracy: 0.9160\n",
            "Epoch 34/40\n",
            "94/94 [==============================] - 6s 69ms/step - loss: 0.0208 - accuracy: 0.9943 - val_loss: 0.4497 - val_accuracy: 0.9140\n",
            "Epoch 35/40\n",
            "94/94 [==============================] - 6s 69ms/step - loss: 0.0235 - accuracy: 0.9947 - val_loss: 0.3950 - val_accuracy: 0.9190\n",
            "Epoch 36/40\n",
            "94/94 [==============================] - 6s 69ms/step - loss: 0.0171 - accuracy: 0.9947 - val_loss: 0.4126 - val_accuracy: 0.9160\n",
            "Epoch 37/40\n",
            "94/94 [==============================] - 6s 68ms/step - loss: 0.0221 - accuracy: 0.9950 - val_loss: 0.6767 - val_accuracy: 0.8880\n",
            "Epoch 38/40\n",
            "94/94 [==============================] - 6s 68ms/step - loss: 0.0379 - accuracy: 0.9893 - val_loss: 0.4841 - val_accuracy: 0.9000\n",
            "Epoch 39/40\n",
            "94/94 [==============================] - 6s 69ms/step - loss: 0.0272 - accuracy: 0.9930 - val_loss: 0.4625 - val_accuracy: 0.9160\n",
            "Epoch 40/40\n",
            "94/94 [==============================] - 6s 69ms/step - loss: 0.0304 - accuracy: 0.9917 - val_loss: 0.3926 - val_accuracy: 0.9120\n"
          ]
        }
      ]
    },
    {
      "cell_type": "code",
      "source": [
        "import matplotlib.pyplot as plt\n",
        "\n",
        "def plot_graphs(history, string):\n",
        "    plt.plot(history.history[string])\n",
        "    plt.plot(history.history['val_'+string])\n",
        "    plt.xlabel(\"Epochs\")\n",
        "    plt.ylabel(string)\n",
        "    plt.legend([string, 'val_'+string])\n",
        "    plt.show()\n",
        "\n",
        "plot_graphs(history, \"accuracy\")\n",
        "plot_graphs(history, \"loss\")"
      ],
      "metadata": {
        "colab": {
          "base_uri": "https://localhost:8080/",
          "height": 544
        },
        "id": "Eds3nvxzMOwS",
        "outputId": "59427250-f80b-4a18-cda1-456f99a237a9"
      },
      "execution_count": 152,
      "outputs": [
        {
          "output_type": "display_data",
          "data": {
            "text/plain": [
              "<Figure size 432x288 with 1 Axes>"
            ],
            "image/png": "[encoded data removed]"
          },
          "metadata": {
            "needs_background": "light"
          }
        },
        {
          "output_type": "display_data",
          "data": {
            "text/plain": [
              "<Figure size 432x288 with 1 Axes>"
            ],
            "image/png": "[encoded data removed]"
          },
          "metadata": {
            "needs_background": "light"
          }
        }
      ]
    }
  ]
}